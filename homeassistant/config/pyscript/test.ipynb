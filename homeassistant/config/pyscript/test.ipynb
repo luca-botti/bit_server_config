{
 "cells": [
  {
   "cell_type": "markdown",
   "metadata": {},
   "source": [
    "Gestione Orari"
   ]
  },
  {
   "cell_type": "code",
   "execution_count": 26,
   "metadata": {},
   "outputs": [
    {
     "name": "stdout",
     "output_type": "stream",
     "text": [
      "2022-10-06 10:27:19.910592+02:00\n",
      "Europe/Rome\n",
      "2022-10-07 08:30:00+02:00\n",
      "Europe/Rome\n"
     ]
    }
   ],
   "source": [
    "import pytz\n",
    "from datetime import datetime\n",
    "\n",
    "italy = pytz.timezone('Europe/Rome')\n",
    "\n",
    "now = italy.localize(datetime.now())\n",
    "print(now)\n",
    "print(now.tzinfo)\n",
    "\n",
    "alarm_str = sensor.poco_f1_next_alarm\n",
    "\n",
    "if (alarm_str != 'unavailable'):\n",
    "\n",
    "    alarm = datetime.strptime(sensor.poco_f1_next_alarm, '%Y-%m-%dT%H:%M:%S%z')\n",
    "\n",
    "    alarm = alarm.replace(tzinfo=pytz.utc).astimezone(italy)\n",
    "\n",
    "    print(alarm)\n",
    "    print(alarm.tzinfo)\n",
    "\n",
    "else:\n",
    "\n",
    "    print('No available Alarm')"
   ]
  },
  {
   "cell_type": "markdown",
   "metadata": {},
   "source": [
    "data TEST"
   ]
  },
  {
   "cell_type": "code",
   "execution_count": null,
   "metadata": {},
   "outputs": [
    {
     "ename": "",
     "evalue": "",
     "output_type": "error",
     "traceback": [
      "\u001b[1;31mL'esecuzione di celle con '/bin/python' richiede il pacchetto ipykernel.\n",
      "\u001b[1;31mEseguire il comando seguente per installare 'ipykernel' nell'ambiente Python. \n",
      "\u001b[1;31mComando: '/bin/python -m pip install ipykernel -U --user --force-reinstall'"
     ]
    }
   ],
   "source": [
    "from datetime import datetime, timedelta\n",
    "from time import time\n",
    "\n",
    "import pytz\n",
    "\n",
    "def setup_chargers(**kwargs):\n",
    "\n",
    "    battery = int(state.get(kwargs.get('battery')))\n",
    "    charging = state.get(kwargs.get('charging_state')) == \"on\"\n",
    "    charger = kwargs.get('charger')\n",
    "    start = datetime.strptime(kwargs.get('day_start_time'), '%H:%M:%S').time()\n",
    "    end = datetime.strptime(kwargs.get('day_end_time'), '%H:%M:%S').time()\n",
    "\n",
    "    alarm = state.get(kwargs.get('alarm_time'))\n",
    "    if alarm != 'unavailable':\n",
    "        alarm = datetime.strptime(alarm, '%Y-%m-%dT%H:%M:%S%z')\n",
    "        alarm = alarm.replace(tzinfo=pytz.utc).astimezone(pytz.timezone('Europe/Rome'))\n",
    "\n",
    "    print(\"battery level: \" + str(battery))\n",
    "    print(\"is charging: \" + str(charging))\n",
    "    print(\"day start time: \" + str(start))\n",
    "    print(\"day end time: \" + str(end))\n",
    "    print(\"charger name: \" + charger + \" state: \" + str(state.get(charger)))\n",
    "    print(\"alarm_state: \" + str(alarm))\n",
    "\n",
    "\n",
    "kwargs = dict({\n",
    "    'battery': 'sensor.poco_f1_battery_level', \n",
    "    'charging_state': 'binary_sensor.poco_f1_is_charging', \n",
    "    'charger': 'switch.caricatore', \n",
    "    'alarm_time': 'sensor.poco_f1_next_alarm', \n",
    "    'day_start_time': '08:00:00', \n",
    "    'day_end_time': '23:00:00'\n",
    "    })\n",
    "\n",
    "setup_chargers(**kwargs)\n",
    "\n"
   ]
  },
  {
   "cell_type": "markdown",
   "metadata": {},
   "source": [
    "Night Charge TEST"
   ]
  },
  {
   "cell_type": "code",
   "execution_count": 41,
   "metadata": {},
   "outputs": [
    {
     "name": "stdout",
     "output_type": "stream",
     "text": [
      "start: 23:00:00 end: 08:00:00 alarm: sensor.poco_f1_next_alarm charger: switch.caricatore battery: sensor.poco_f1_battery_level\n",
      "After Midnight\n",
      "Error not right time, now: 2022-10-14 15:15:49.932555+02:00 start: 2022-10-13 23:00:00.932555+02:00 end: 2022-10-14 08:00:00.932555+02:00\n"
     ]
    }
   ],
   "source": [
    "from datetime import datetime, timedelta\n",
    "from time import time\n",
    "\n",
    "def night_charge(start=None, end=None, alarm=None, charger=None, battery=None, debug=None): #debug is used for setting an arbitrary actual time leave None for use the actual time\n",
    "    # switching start and end time so now start will be the start of the night charge and end its end\n",
    "    temp = start\n",
    "    start = end\n",
    "    end = temp\n",
    "\n",
    "    print(\"start: \" + str(start) + \" end: \" + str(end) + \" alarm: \" + alarm + \" charger: \" + charger + \" battery: \" + battery)\n",
    "\n",
    "    if (start == None or charger == None or battery == None or not(end != None or alarm != None)):\n",
    "        print(\"not enough data to start the ngiht charge, exit\")\n",
    "        return\n",
    "    \n",
    "    if debug == None:\n",
    "\n",
    "        italy = pytz.timezone('Europe/Rome')\n",
    "        now = italy.localize(datetime.now())\n",
    "    \n",
    "    else: \n",
    "        now = debug\n",
    "\n",
    "    start = now.replace(hour=start.hour, minute=start.minute, second=start.second)\n",
    "    end = now.replace(hour=end.hour, minute=end.minute, second=end.second)\n",
    "\n",
    "    if now < start: \n",
    "        start = start - timedelta(days=1)\n",
    "        print('After Midnight')\n",
    "    \n",
    "    if end < start:\n",
    "        end = end + timedelta(days=1)\n",
    "        print('Before Midnight')\n",
    "    \n",
    "    if alarm != None and state.get(alarm) != 'unavailable':\n",
    "        alarm = datetime.strptime(state.get(alarm), '%Y-%m-%dT%H:%M:%S%z')\n",
    "        alarm = alarm.replace(tzinfo=pytz.utc).astimezone(pytz.timezone('Europe/Rome'))\n",
    "        end = alarm\n",
    "\n",
    "    if not(start <= now < end):\n",
    "        print(\"Error not right time, now: \" + str(now) + \" start: \" + str(start) + \" end: \" + str(end))\n",
    "        return\n",
    "    \n",
    "    print(\"Starting night charge, now: \" + str(now) + \" start: \" + str(start) + \" end: \" + str(end))\n",
    "\n",
    "    return\n",
    "\n",
    "debug = pytz.timezone('Europe/Rome').localize(datetime.now())\n",
    "debug = debug.replace(hour=2, minute=30, second=0)\n",
    "\n",
    "night_charge(datetime.strptime(\"08:00:00\", '%H:%M:%S').time(), datetime.strptime(\"23:00:00\", '%H:%M:%S').time(), \"sensor.poco_f1_next_alarm\", \"switch.caricatore\", \"sensor.poco_f1_battery_level\", None)"
   ]
  },
  {
   "cell_type": "markdown",
   "metadata": {},
   "source": [
    "Service caller modules"
   ]
  },
  {
   "cell_type": "code",
   "execution_count": 28,
   "metadata": {},
   "outputs": [],
   "source": [
    "import service_caller as sc\n",
    "\n",
    "sc.send_telegram_notification('test')"
   ]
  },
  {
   "cell_type": "code",
   "execution_count": 6,
   "metadata": {},
   "outputs": [
    {
     "name": "stdout",
     "output_type": "stream",
     "text": [
      "Turning off switch id = switch.caricatore\n"
     ]
    }
   ],
   "source": [
    "import service_caller as sc\n",
    "\n",
    "charger = \"switch.caricatore\"\n",
    "\n",
    "#sc.switch_turn_on(charger)\n",
    "sc.switch_turn_off(charger)"
   ]
  }
 ],
 "metadata": {
  "kernelspec": {
   "display_name": "Python 3",
   "language": "python",
   "name": "python3"
  },
  "language_info": {
   "codemirror_mode": "",
   "file_extension": ".py",
   "mimetype": "",
   "name": "python",
   "nbconvert_exporter": "",
   "version": "3.9.2 (default, Feb 28 2021, 17:03:44) \n[GCC 10.2.1 20210110]"
  },
  "orig_nbformat": 4,
  "vscode": {
   "interpreter": {
    "hash": "e7370f93d1d0cde622a1f8e1c04877d8463912d04d973331ad4851f04de6915a"
   }
  }
 },
 "nbformat": 4,
 "nbformat_minor": 2
}
